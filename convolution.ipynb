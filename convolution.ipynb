{
 "cells": [
  {
   "cell_type": "code",
   "execution_count": 28,
   "metadata": {},
   "outputs": [
    {
     "name": "stdout",
     "output_type": "stream",
     "text": [
      "[[1 0]\n",
      " [0 1]]\n",
      "[[1 2 1]\n",
      " [2 1 3]\n",
      " [4 2 1]]\n"
     ]
    }
   ],
   "source": [
    "import numpy as np\n",
    "x = np.array([[1, 0],\n",
    "              [0, 1]])\n",
    "h = np.array([[1,2,1],[2,1,3],[4,2,1]])\n",
    "\n",
    "print(x)\n",
    "print(h)"
   ]
  },
  {
   "cell_type": "code",
   "execution_count": 29,
   "metadata": {},
   "outputs": [
    {
     "name": "stdout",
     "output_type": "stream",
     "text": [
      "[[1 2 1 0]\n",
      " [2 2 5 1]\n",
      " [4 4 2 3]\n",
      " [0 4 2 1]]\n"
     ]
    }
   ],
   "source": [
    "import scipy.signal as sg\n",
    " \n",
    "convolve = sg.convolve(x, h)\n",
    "print(convolve) "
   ]
  },
  {
   "cell_type": "code",
   "execution_count": 30,
   "metadata": {},
   "outputs": [
    {
     "name": "stdout",
     "output_type": "stream",
     "text": [
      "[[1 2 1]\n",
      " [2 2 5]\n",
      " [4 4 2]]\n"
     ]
    }
   ],
   "source": [
    "print(sg.convolve2d(h, x, mode='same'))"
   ]
  },
  {
   "cell_type": "code",
   "execution_count": 31,
   "metadata": {},
   "outputs": [
    {
     "name": "stdout",
     "output_type": "stream",
     "text": [
      "[[1 2 1 0]\n",
      " [2 2 5 1]\n",
      " [4 4 2 3]\n",
      " [0 4 2 1]]\n"
     ]
    }
   ],
   "source": [
    "print(signal.convolve2d(h, x, mode='full'))"
   ]
  },
  {
   "cell_type": "code",
   "execution_count": 32,
   "metadata": {},
   "outputs": [
    {
     "name": "stdout",
     "output_type": "stream",
     "text": [
      "[[2 5]\n",
      " [4 2]]\n"
     ]
    }
   ],
   "source": [
    "print(signal.convolve2d(h, x, mode='valid'))"
   ]
  },
  {
   "cell_type": "code",
   "execution_count": null,
   "metadata": {},
   "outputs": [],
   "source": []
  }
 ],
 "metadata": {
  "kernelspec": {
   "display_name": "Python 3",
   "language": "python",
   "name": "python3"
  },
  "language_info": {
   "codemirror_mode": {
    "name": "ipython",
    "version": 3
   },
   "file_extension": ".py",
   "mimetype": "text/x-python",
   "name": "python",
   "nbconvert_exporter": "python",
   "pygments_lexer": "ipython3",
   "version": "3.7.4"
  }
 },
 "nbformat": 4,
 "nbformat_minor": 2
}
